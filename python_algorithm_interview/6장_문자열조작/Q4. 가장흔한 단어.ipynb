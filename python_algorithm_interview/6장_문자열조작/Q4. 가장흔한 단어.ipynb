{
 "cells": [
  {
   "cell_type": "markdown",
   "metadata": {},
   "source": [
    "# Q4. Most Common Word (leetcode 819)\n",
    "\n",
    "***\n",
    "Given a paragraph and a list of banned words, return the most frequent word that is not in the list of banned words.  It is guaranteed there is at least one word that isn't banned, and that the answer is unique.\n",
    "\n",
    "Words in the list of banned words are given in lowercase, and free of punctuation.  Words in the paragraph are not case sensitive.  The answer is in lowercase.\n",
    "***\n",
    "\n",
    "Input: \n",
    "paragraph = \"Bob hit a ball, the hit BALL flew far after it was hit.\"\n",
    "\n",
    "banned = [\"hit\"]\n",
    "\n",
    "Output: \"ball\"\n",
    "\n",
    "Explanation: \n",
    "\"hit\" occurs 3 times, but it is a banned word.\n",
    "\"ball\" occurs twice (and no other word does), so it is the most frequent non-banned word in the paragraph. \n",
    "\n",
    "\n",
    "\n",
    "~~~python\n",
    "class Solution:\n",
    "    def mostCommonWord(self, paragraph: str, banned: List[str]) -> str:\n",
    "        words=[word for word in re.sub(r'[^\\w]', ' ', paragraph).lower().split() if word not in banned] # substitue words except words\n",
    "        counts = collections.Counter(words)\n",
    "        return counts.most_common(1)[0][0] #return the most_common_count\n",
    "~~~\n",
    "\n",
    "---\n",
    "## code_explain\n",
    "\n",
    "- **'^' in r'[^\\w]** : not\n",
    "\n",
    "- **'\\w' in r'[^\\w]** : substitute word to ' '\n",
    "\n",
    "- **collections.Counter()**\n",
    "https://docs.python.org/3/library/collections.html#collections.Counter\n",
    "\n",
    "- **collections.defaultdict()** : default values was int, example) {keys: 0}  https://appia.tistory.com/218\n",
    "\n"
   ]
  }
 ],
 "metadata": {
  "kernelspec": {
   "display_name": "Python 3",
   "language": "python",
   "name": "python3"
  },
  "language_info": {
   "codemirror_mode": {
    "name": "ipython",
    "version": 3
   },
   "file_extension": ".py",
   "mimetype": "text/x-python",
   "name": "python",
   "nbconvert_exporter": "python",
   "pygments_lexer": "ipython3",
   "version": "3.7.4"
  }
 },
 "nbformat": 4,
 "nbformat_minor": 2
}
