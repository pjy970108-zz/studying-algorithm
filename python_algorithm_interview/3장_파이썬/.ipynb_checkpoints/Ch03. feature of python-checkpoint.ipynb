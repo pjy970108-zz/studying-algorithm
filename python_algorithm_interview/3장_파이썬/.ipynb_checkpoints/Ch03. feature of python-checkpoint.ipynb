{
 "cells": [
  {
   "cell_type": "markdown",
   "metadata": {},
   "source": [
    "# ch03. python\n",
    "\n",
    "## [Features of python]\n",
    "1. Ident : the indent is 4 of spaces when you write the code\n",
    "2. Naming Convention : When I defining a variable and a function , separate each word with Snake Case(_)\n",
    "3. Type hint : We have to check the type such as 'str', 'int'\n",
    "4. List comprehension : we can use functional things like map, filter and lamba For code efficiency,\n",
    "~~~ python\n",
    "a={}\n",
    "for key, value in original.items():\n",
    "    a[key]=value\n",
    "~~~\n",
    "instead of upper example, we can use down example\n",
    "~~~ python\n",
    "a={key:value for key, value in original.items()}\n",
    "~~~\n",
    "\n",
    "5. Generator : function that generates the iterator, using the yield keyword\n",
    "6. Range : the Representative function use Generator, usually use in for code\n",
    "~~~ python\n",
    "a=[n for n in range(1000000)]\n",
    "b=range(10000)\n",
    "~~~\n",
    "b is faster than a, because of using only condition.\n",
    "Also, b uses memory less than a.\n",
    "\n",
    "7. Enumerate : ordered types data such as list, set, tuple return enmerate objects including index.\n",
    "~~~ python\n",
    "for i, v in enumerate(a):\n",
    "    print(i,v)\n",
    "~~~\n",
    "\n",
    "8. Divide Operators : //, /, %, divmod\n",
    "\n",
    "9. Print : if you want to debug the code in codeing test, you can use 'print' for debuging\n",
    "\n",
    "10. Pass : if you want to make the whole of code structure first, you can use the 'pass' for making the whole of code structure.\n",
    "\n",
    "11. Locals : We can check all of variables in local enviroment.\n",
    "~~~python\n",
    "import pprint\n",
    "pprint.pprint(locals())\n",
    "~~~\n",
    "\n",
    "## [When you write the code]\n",
    "- use an intuitive varialbe name and comment.\n",
    "- When you use the list comprehension, Using less than 2 list comprehension at one line."
   ]
  },
  {
   "cell_type": "code",
   "execution_count": null,
   "metadata": {},
   "outputs": [],
   "source": []
  }
 ],
 "metadata": {
  "kernelspec": {
   "display_name": "Python 3",
   "language": "python",
   "name": "python3"
  },
  "language_info": {
   "codemirror_mode": {
    "name": "ipython",
    "version": 3
   },
   "file_extension": ".py",
   "mimetype": "text/x-python",
   "name": "python",
   "nbconvert_exporter": "python",
   "pygments_lexer": "ipython3",
   "version": "3.7.4"
  }
 },
 "nbformat": 4,
 "nbformat_minor": 2
}
