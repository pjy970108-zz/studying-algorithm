{
 "cells": [
  {
   "cell_type": "markdown",
   "metadata": {},
   "source": [
    "# ch05. List&Dictionary type\n",
    "\n",
    "**list** : list means the sequence and Mutable list that is stored in order. The list maintains input order and internally implemented as a dynamic array.\n",
    "<br><br>\n",
    "**features of list** : the list are implemented in the form of managing pointer lists for objects. It is managed in the form of an array, so it boasts a function that combines an array and a list of connections. But It was slower than the oter programming language.\n",
    "<br><br>\n",
    "\n",
    "**Dictionary** : The dictionary consists of keys/values. It is implemented as a hash table. Various types, including letters, can be used as keys. Save data using Hash table. Hash tables support a variety of types with keys, with almost all time complexity being O (1).\n",
    "<br><br>\n",
    "\n",
    "**Dictionary module**\n",
    "<br>\n",
    "- defaultdict object: when querying a key that does not exist, generate a dictionary item for the key based one the default value instead of the error value\n",
    "<br>\n",
    "- Counter object : Calculate the number of items and return them to the dictionary. At this time, the key contains the value of the item and the number of the item is included in the value. \n",
    "\n",
    "**Hash talbe?**\n",
    "\n",
    "It is one of the data structures that stores data in key and value, which allows data to be retrieved quickly. The hash table provides a fast search speed because it stores data internally using an array.  A hash function is applied to each key value to create a unique index of the array, which is used to store or retrieve the value.\n",
    "\n",
    "출처 :https://mangkyu.tistory.com/102\n",
    "https://ratsgo.github.io/data%20structure&algorithm/2017/10/25/hash/"
   ]
  }
 ],
 "metadata": {
  "kernelspec": {
   "display_name": "Python 3",
   "language": "python",
   "name": "python3"
  },
  "language_info": {
   "codemirror_mode": {
    "name": "ipython",
    "version": 3
   },
   "file_extension": ".py",
   "mimetype": "text/x-python",
   "name": "python",
   "nbconvert_exporter": "python",
   "pygments_lexer": "ipython3",
   "version": "3.7.4"
  }
 },
 "nbformat": 4,
 "nbformat_minor": 2
}
